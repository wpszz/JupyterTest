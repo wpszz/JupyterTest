{
 "cells": [
  {
   "cell_type": "code",
   "execution_count": 1,
   "metadata": {},
   "outputs": [],
   "source": [
    "import numpy as np"
   ]
  },
  {
   "cell_type": "code",
   "execution_count": 2,
   "metadata": {},
   "outputs": [],
   "source": [
    "def sigmoid(x):\n",
    "    return 1 / (1 + np.exp(-x))"
   ]
  },
  {
   "cell_type": "code",
   "execution_count": 3,
   "metadata": {},
   "outputs": [],
   "source": [
    "def sigmoid_derivative(x):\n",
    "    ### s'(x) = s(1−s) \n",
    "    s = sigmoid(x)\n",
    "    ds = s * (1 - s)\n",
    "    return ds"
   ]
  },
  {
   "cell_type": "code",
   "execution_count": 17,
   "metadata": {},
   "outputs": [],
   "source": [
    "def L1(yhat, y):\n",
    "    \"\"\"\n",
    "    L1(y^,y)=∑i{0, m}|y(i)−y(i)^|\n",
    "    \"\"\"\n",
    "    loss = np.sum(np.abs(yhat - y))\n",
    "    return loss"
   ]
  },
  {
   "cell_type": "code",
   "execution_count": 19,
   "metadata": {},
   "outputs": [],
   "source": [
    "def L2(yhat, y):\n",
    "    \"\"\"\n",
    "    L2(y^,y)=∑i{0, m}(y(i)−y(i)^)^2\n",
    "    \"\"\"\n",
    "    #loss = np.sum(np.abs(yhat - y)**2)\n",
    "    loss = np.dot(y-yhat,y-yhat)\n",
    "    return loss"
   ]
  },
  {
   "cell_type": "code",
   "execution_count": 21,
   "metadata": {},
   "outputs": [
    {
     "name": "stdout",
     "output_type": "stream",
     "text": [
      "[1 2 3] (3,)\n",
      "[0.73105858 0.88079708 0.95257413] (3,)\n",
      "[0.19661193 0.10499359 0.04517666] (3,)\n",
      "[3.74165739] (1,)\n",
      "[0.26726124 0.53452248 0.80178373] (3,)\n",
      "[[1 2 3]\n",
      " [2 4 6]\n",
      " [3 6 9]] (3, 3)\n",
      "2.2176476050544203 ()\n",
      "1.7108744391417539 ()\n"
     ]
    }
   ],
   "source": [
    "def test():\n",
    "    v1 = np.array([1,2,3])\n",
    "    print(v1, np.shape(v1))\n",
    "    \n",
    "    v2 = sigmoid(v1)\n",
    "    print(v2, np.shape(v2))\n",
    "    \n",
    "    v3 = sigmoid_derivative(v1)\n",
    "    print(v3, np.shape(v3))\n",
    "    \n",
    "    vn = np.linalg.norm(v1, axis = 0, keepdims=True)\n",
    "    print(vn, np.shape(vn)) \n",
    "    \n",
    "    v4 = v1 / vn\n",
    "    print(v4, np.shape(v4))\n",
    "    \n",
    "    v5 = np.outer(v1, v1)\n",
    "    print(v5, np.shape(v5))    \n",
    "    \n",
    "    v6 = L1(v2, v3)\n",
    "    print(v6, np.shape(v6))\n",
    "    \n",
    "    v7 = L2(v2, v3)\n",
    "    print(v7, np.shape(v7))\n",
    "test()"
   ]
  },
  {
   "cell_type": "code",
   "execution_count": null,
   "metadata": {},
   "outputs": [],
   "source": []
  }
 ],
 "metadata": {
  "kernelspec": {
   "display_name": "Python 3",
   "language": "python",
   "name": "python3"
  },
  "language_info": {
   "codemirror_mode": {
    "name": "ipython",
    "version": 3
   },
   "file_extension": ".py",
   "mimetype": "text/x-python",
   "name": "python",
   "nbconvert_exporter": "python",
   "pygments_lexer": "ipython3",
   "version": "3.6.5"
  }
 },
 "nbformat": 4,
 "nbformat_minor": 2
}
