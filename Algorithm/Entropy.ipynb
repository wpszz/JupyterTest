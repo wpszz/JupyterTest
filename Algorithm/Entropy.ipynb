{
 "cells": [
  {
   "cell_type": "markdown",
   "metadata": {},
   "source": [
    "https://blog.csdn.net/qq_39521554/article/details/79078917"
   ]
  },
  {
   "cell_type": "code",
   "execution_count": 153,
   "metadata": {},
   "outputs": [],
   "source": [
    "from hashlib import md5\n",
    "from math import log\n",
    "import numpy as np\n",
    "\n",
    "def Entropy(arrV):\n",
    "    s = sum(arrV)\n",
    "    arrP = arrV / s\n",
    "    #return -np.dot(arrP, np.log2(arrP))\n",
    "    return sum(-arrP * np.log2(arrP))"
   ]
  },
  {
   "cell_type": "code",
   "execution_count": 154,
   "metadata": {},
   "outputs": [
    {
     "name": "stdout",
     "output_type": "stream",
     "text": [
      "18.652920443620015\n",
      "18.931568569375425\n",
      "1.75\n"
     ]
    }
   ],
   "source": [
    "size = 500000\n",
    "arrV = np.random.rand(1, size)\n",
    "print(Entropy(arrV.ravel()))\n",
    "\n",
    "arrV = np.full((1, size), 1)\n",
    "print(Entropy(arrV.ravel()))\n",
    "\n",
    "arrP = np.array([1/2.0, 1/2.0, 1/8.0, 1/8.0])\n",
    "print(sum(-arrP * np.log2(arrP)))"
   ]
  },
  {
   "cell_type": "code",
   "execution_count": 148,
   "metadata": {},
   "outputs": [
    {
     "name": "stdout",
     "output_type": "stream",
     "text": [
      "0 \t 3.9989803604982614\n",
      "1 \t 3.998954446709186\n",
      "2 \t 3.9991490258354423\n",
      "3 \t 3.998937385062576\n",
      "4 \t 3.9982564756538883\n",
      "5 \t 3.998949719504822\n",
      "6 \t 3.9995041415913963\n",
      "7 \t 3.9992801720373485\n",
      "8 \t 3.9991644970857685\n",
      "9 \t 3.998862294354178\n",
      "10 \t 3.999087133511953\n",
      "11 \t 3.9990588763471377\n",
      "12 \t 3.997664389316452\n",
      "13 \t 3.9993072086452286\n",
      "14 \t 3.9984515717394853\n",
      "15 \t 3.9992988758239405\n",
      "16 \t 3.9987599672641627\n",
      "17 \t 3.999401605390968\n",
      "18 \t 3.9986087352341073\n",
      "19 \t 3.999355055706644\n",
      "20 \t 3.9993030919906754\n",
      "21 \t 3.9980575746884957\n",
      "22 \t 3.9993057159214644\n",
      "23 \t 3.9983936512442475\n",
      "24 \t 3.999172742046561\n",
      "25 \t 3.998367967972607\n",
      "26 \t 3.9980590940857437\n",
      "27 \t 3.9982244021878004\n",
      "28 \t 3.9989060827524536\n",
      "29 \t 3.9986560352639198\n",
      "30 \t 3.9988099505941004\n",
      "31 \t 3.9988288127211704\n"
     ]
    }
   ],
   "source": [
    "wkDict = {} # key: index number; value: list of appeared chars\n",
    "for i in range(10000):\n",
    "    s = md5(str(i).encode(\"utf8\")).hexdigest()\n",
    "    for j in range(32):\n",
    "        if not j in wkDict:\n",
    "            wkDict[j] = [s[j]]\n",
    "        else:\n",
    "            wkDict[j].append(s[j])\n",
    "\n",
    "for i in range(32):\n",
    "    d = wkDict[i]\n",
    "    arrV = []\n",
    "    for j in set(d):\n",
    "        arrV.append(d.count(j))\n",
    "    print(i, '\\t', Entropy(np.array(arrV)))"
   ]
  },
  {
   "cell_type": "code",
   "execution_count": null,
   "metadata": {},
   "outputs": [],
   "source": []
  }
 ],
 "metadata": {
  "kernelspec": {
   "display_name": "Python 3",
   "language": "python",
   "name": "python3"
  },
  "language_info": {
   "codemirror_mode": {
    "name": "ipython",
    "version": 3
   },
   "file_extension": ".py",
   "mimetype": "text/x-python",
   "name": "python",
   "nbconvert_exporter": "python",
   "pygments_lexer": "ipython3",
   "version": "3.6.5"
  }
 },
 "nbformat": 4,
 "nbformat_minor": 2
}
