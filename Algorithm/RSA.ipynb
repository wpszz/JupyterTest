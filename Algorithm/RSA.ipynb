{
 "cells": [
  {
   "cell_type": "markdown",
   "metadata": {},
   "source": [
    "<br>RSA 密钥对（E，D，N）生成过程，其中：公钥（E，N），私钥（D，N）\n",
    "<br>求N: N＝ p ＊ q ；p，q为素数\n",
    "<br>求L: L＝LCM（p－1，q－1） ；L为p－1、q－1的最小公倍数 \n",
    "<br>求E: 1 < E < L，GCD（E，L）=1；E，L最大公约数为1（E和L互质）\n",
    "<br>求D: 1 < D < L，(E ＊ D) mod L ＝ 1\n",
    "<br>加密过程：密文 = 明文$^{E}$ mod N \n",
    "<br>解密过程：明文 = 密文$^{D}$ mod N \n",
    "<br>（注意：准备的明文必须时小于N的数，因为加密或者解密都要mod N其结果必须小于N）\n",
    "\n",
    "<br>最大公约数基本原理：两个整数的最大公约数等于，其中较小的数和两数的差的最大公约数。\n",
    "<br>求解算法：辗转相除法"
   ]
  },
  {
   "cell_type": "code",
   "execution_count": 1,
   "metadata": {},
   "outputs": [],
   "source": [
    "import math\n",
    "import numpy as np"
   ]
  },
  {
   "cell_type": "code",
   "execution_count": 77,
   "metadata": {},
   "outputs": [],
   "source": [
    "# Greatest common divisor\n",
    "def GCD(m, n):\n",
    "    if (m < n):\n",
    "        t = n\n",
    "        n = m\n",
    "        m = t\n",
    "    while (n != 0):\n",
    "        r = m % n\n",
    "        m = n\n",
    "        n = r\n",
    "    return m\n",
    "\n",
    "# Lowest Common Multiple\n",
    "def LCM(m, n):\n",
    "    gcd = GCD(m, n)\n",
    "    return (int)(m * n / gcd)\n",
    "\n",
    "################################################\n",
    "def IsPrime(N):\n",
    "    if (N < 2):\n",
    "        return false\n",
    "    i = 2\n",
    "    while (i * i <= N):\n",
    "        if ((N % i) == 0):\n",
    "            return False\n",
    "        i = i + 1\n",
    "    return True\n",
    "\n",
    "def RandPrime(complexSize = 32):\n",
    "    u = complexSize\n",
    "    s = np.random.randint(1,complexSize) * u\n",
    "    for i in range(s, s + u):\n",
    "        if (IsPrime(i)):\n",
    "            return i\n",
    "    return RandPrime(complexSize)\n",
    "\n",
    "def RSA_PQ(complexSize = 32):\n",
    "    p = RandPrime(complexSize)\n",
    "    q = p\n",
    "    while (q == p):\n",
    "        q = RandPrime(complexSize)\n",
    "    return p, q\n",
    "\n",
    "def RSA_N(p, q):\n",
    "    return p * q\n",
    "\n",
    "def RSA_L(p, q):\n",
    "    return LCM(p - 1, q - 1)\n",
    "\n",
    "def RSA_E(L):\n",
    "    for i in range(2, L):\n",
    "        if GCD(i, L) == 1:\n",
    "            return i\n",
    "        \n",
    "def RSA_D(L, E):\n",
    "    for i in range(2, L):\n",
    "        if ((E * i) % L) == 1:\n",
    "            return i\n",
    "        \n",
    "def RSA_Encrypt(v, E, N):\n",
    "    assert v < N, \"value must less equal N\"\n",
    "    return (v**E) % N\n",
    "        \n",
    "def RSA_Decrypt(v, D, N):\n",
    "    assert v < N, \"value must less equal N\"\n",
    "    return (v**D) % N"
   ]
  },
  {
   "cell_type": "code",
   "execution_count": 78,
   "metadata": {},
   "outputs": [
    {
     "name": "stdout",
     "output_type": "stream",
     "text": [
      "521 739 385019 191880 7 54823\n",
      "public key: [7, 385019]\n",
      "private key: [54823, 385019]\n",
      "1234 221764 1234\n"
     ]
    }
   ],
   "source": [
    "p, q = RSA_PQ(32)\n",
    "N = RSA_N(p, q)\n",
    "L = RSA_L(p, q)\n",
    "E = RSA_E(L)\n",
    "D = RSA_D(L, E)\n",
    "print(p, q, N, L, E, D)\n",
    "print(\"public key:\", [E, N])\n",
    "print(\"private key:\", [D, N])\n",
    "\n",
    "v = 1234\n",
    "v_enc = RSA_Encrypt(v, E, N)\n",
    "v_dec = RSA_Decrypt(v_enc, D, N)\n",
    "print(v, v_enc, v_dec)"
   ]
  },
  {
   "cell_type": "code",
   "execution_count": 76,
   "metadata": {},
   "outputs": [
    {
     "name": "stdout",
     "output_type": "stream",
     "text": [
      "origin:  This is RSA 加密 解密 算法 实践\n",
      "enc data:  276b2b69d136962cfa8000136962cfa80001d53a224fde67a80002af6e1dd1e146ed1422980001058c1c1d5146ed14229800029ee9d0c1163a33422d8000be5e1a5902af6e1f7f8\n",
      "enc&dec:  This is RSA 加密 解密 算法 实践\n"
     ]
    }
   ],
   "source": [
    "str = 'This is RSA 加密 解密 算法 实践'\n",
    "bytes = bytearray(str, \"gbk\")\n",
    "print(\"origin: \", str)\n",
    "\n",
    "list_enc = []\n",
    "for i in range(len(bytes)):\n",
    "    list_enc.append(RSA_Encrypt(bytes[i], E, N))\n",
    "    \n",
    "list_hex = ['%x'% x for x in list_enc]\n",
    "print(\"enc data: \", \"\".join(list_hex))\n",
    "\n",
    "list_dec = []\n",
    "for i in range(len(bytes)):\n",
    "    list_dec.append(RSA_Decrypt(list_enc[i], D, N))\n",
    "print(\"enc&dec: \", bytearray(list_dec).decode(\"gbk\"))"
   ]
  },
  {
   "cell_type": "code",
   "execution_count": null,
   "metadata": {},
   "outputs": [],
   "source": []
  }
 ],
 "metadata": {
  "kernelspec": {
   "display_name": "Python 3",
   "language": "python",
   "name": "python3"
  },
  "language_info": {
   "codemirror_mode": {
    "name": "ipython",
    "version": 3
   },
   "file_extension": ".py",
   "mimetype": "text/x-python",
   "name": "python",
   "nbconvert_exporter": "python",
   "pygments_lexer": "ipython3",
   "version": "3.6.5"
  }
 },
 "nbformat": 4,
 "nbformat_minor": 2
}
